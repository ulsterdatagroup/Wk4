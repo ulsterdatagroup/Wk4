{
 "cells": [
  {
   "cell_type": "code",
   "execution_count": 3,
   "metadata": {},
   "outputs": [
    {
     "name": "stdout",
     "output_type": "stream",
     "text": [
      "['establishmentname', 'establishmentaddressline1', 'establishmentaddressline2', 'establishmentaddressline3', 'establishmentaddressline4', 'postcode', 'rating', 'latitude', 'longitude', 'inspectiondate']\n"
     ]
    }
   ],
   "source": [
    "### Print Header Names\n",
    "\n",
    "import csv\n",
    "with open('foodhygienedata.csv') as csvfile:\n",
    "    reader = csv.DictReader(csvfile, delimiter=',')\n",
    "    print(reader.fieldnames)"
   ]
  },
  {
   "cell_type": "code",
   "execution_count": 7,
   "metadata": {},
   "outputs": [],
   "source": [
    "### Print Postcodes (working)\n",
    "\n",
    "import csv\n",
    "with open('foodhygienedata.csv') as csvfile:\n",
    "    reader = csv.DictReader(csvfile, delimiter=',')\n",
    "    for row in reader:\n",
    "        postcode = row[\"postcode\"]\n",
    "        print(postcode)"
   ]
  },
  {
   "cell_type": "code",
   "execution_count": 12,
   "metadata": {},
   "outputs": [
    {
     "name": "stdout",
     "output_type": "stream",
     "text": [
      "El Divino\n",
      "Gibsons Butchers\n",
      "Van Shop\n",
      "Costa Coffee\n",
      "Holohans\n",
      "Cafe Krem Students Union\n",
      "St Galls Coffee Shop\n",
      "Royal Day Care\n",
      "Glenbrook Surestart\n",
      "Malone Kindergarden - Simply Me\n",
      "Glenbrook Surestart\n",
      "Glenbrook Surestart\n",
      "Top Centra\n",
      "Russell's\n",
      "Select Catering\n",
      "The Bus Stop Cafe\n",
      "Firths Traditional Fish & Chips\n",
      "Attridge & Cole\n",
      "Bernies Burgers\n",
      "Top Scoff\n",
      "Campbell McCleave Ltd\n",
      "The Dock Cafe\n",
      "Pizza Hut (Victoria Square)\n",
      "TGI Fridays  (Victoria Square)\n",
      "Pizza Express\n",
      "GIBONEY HOUSE (CLANMIL HOUSING)\n",
      "Select Sandwiches\n",
      "Grosvenor Grammar School\n",
      "St John Paul II\n",
      "Taughmonagh Nursery School\n",
      "First Presbyterian Church\n",
      "Malton Fold\n",
      "The Candy Man UK\n"
     ]
    }
   ],
   "source": [
    "### Print establishments with no postcodes\n",
    "\n",
    "import csv\n",
    "with open('foodhygienedata.csv') as csvfile:\n",
    "    reader = csv.DictReader(csvfile, delimiter=',')\n",
    "    for row in reader:\n",
    "        postcode = row[\"postcode\"]\n",
    "        if not postcode:\n",
    "            establishment=row[\"establishmentname\"]\n",
    "            print(establishment)\n",
    "            \n",
    "### Note: “not” returns True for 0, “”, None, and False"
   ]
  },
  {
   "cell_type": "code",
   "execution_count": 18,
   "metadata": {},
   "outputs": [],
   "source": [
    "### Print establishment where any datafield is emppty (working)\n",
    "\n",
    "import csv\n",
    "with open('foodhygienedata.csv') as csvfile:\n",
    "    reader = csv.DictReader(csvfile, delimiter=',')\n",
    "    for row in reader:\n",
    "        if any(row[key] in (None, \"\") for key in row):\n",
    "            establishment=row[\"establishmentname\"]\n",
    "            print(establishment)"
   ]
  },
  {
   "cell_type": "code",
   "execution_count": 21,
   "metadata": {},
   "outputs": [],
   "source": [
    "### Task 4\n",
    "### Print establishment where all datafield are populated (working)\n",
    "\n",
    "import csv\n",
    "with open('foodhygienedata.csv') as csvfile:\n",
    "    reader = csv.DictReader(csvfile, delimiter=',')\n",
    "    for row in reader:\n",
    "        if all(row[key] for key in row):\n",
    "            print(ow[\"establishmentname\"])\n",
    "            \n",
    "### Note:  row[key] will evaluate to True if a value is present, which is not False, None, 0, “” or an empty container"
   ]
  },
  {
   "cell_type": "code",
   "execution_count": 25,
   "metadata": {},
   "outputs": [
    {
     "name": "stdout",
     "output_type": "stream",
     "text": [
      "Amount scoring 1:  28\n",
      "Amount scoring 2:  61\n",
      "Amount scoring 3:  391\n",
      "Amount scoring 4:  820\n",
      "Amount scoring 5:  1786\n",
      "Scores Missing:  82\n"
     ]
    }
   ],
   "source": [
    "### TASK 5\n",
    "# A count of how many establishments received each rating: 1, 2, 3, 4 and 5, and how many ratings were omitted\n",
    "\n",
    "import csv\n",
    "with open('foodhygienedata.csv') as csvfile:\n",
    "    reader = csv.DictReader(csvfile, delimiter=',')\n",
    "    ratings = [0,0,0,0,0]\n",
    "    omittedRatings = 0\n",
    "    for row in reader:\n",
    "        if row[\"rating\"] == \"5\":\n",
    "            ratings[4]+=1\n",
    "        if row[\"rating\"] == \"4\":\n",
    "            ratings[3]+=1      \n",
    "        if row[\"rating\"] == \"3\":\n",
    "            ratings[2]+=1   \n",
    "        if row[\"rating\"] == \"2\":\n",
    "            ratings[1]+=1\n",
    "        if row[\"rating\"] == \"1\":\n",
    "            ratings[0]+=1\n",
    "        if row[\"rating\"] in (\"None\", \"\"):\n",
    "            omittedRatings+=1\n",
    "    print(\"Amount scoring 1: \", ratings[0])\n",
    "    print(\"Amount scoring 2: \", ratings[1])\n",
    "    print(\"Amount scoring 3: \", ratings[2])\n",
    "    print(\"Amount scoring 4: \", ratings[3])\n",
    "    print(\"Amount scoring 5: \", ratings[4])\n",
    "    print(\"Scores Missing: \", omittedRatings)\n",
    "    \n",
    "        "
   ]
  },
  {
   "cell_type": "code",
   "execution_count": 27,
   "metadata": {},
   "outputs": [],
   "source": [
    "### TASK 6\n",
    "# Write to a text file - write to txt or csv \n",
    "\n",
    "with open('test_file1.txt', \"w\") as file:\n",
    "    file.write(\"Test Line 1 \\n\")\n",
    "    file.write(\"Test Line 2\")\n",
    "\n"
   ]
  },
  {
   "cell_type": "code",
   "execution_count": 28,
   "metadata": {},
   "outputs": [],
   "source": [
    "# Write to csv with output converted to delimited strings\n",
    "\n",
    "import csv\n",
    "\n",
    "headers=[\"header1\",\"header2\",\"header3\"]\n",
    "values=[\"val1\",\"val2\",\"val3\"]\n",
    "\n",
    "with open(\"testfile.csv\",\"w\",newline=\"\") as file:\n",
    "    writer = csv.writer(file,delimiter=',')\n",
    "    writer.writerow(headers)\n",
    "    writer.writerow(values)\n",
    "\n"
   ]
  },
  {
   "cell_type": "code",
   "execution_count": 29,
   "metadata": {},
   "outputs": [],
   "source": [
    "# Experiment with Append mode\n",
    "\n",
    "import csv\n",
    "\n",
    "headers=[\"header1\",\"header2\",\"header3\"]\n",
    "values=[\"val1\",\"val2\",\"val3\"]\n",
    "\n",
    "with open(\"test`_file2.csv\",\"w\",newline=\"\") as file:\n",
    "    writer = csv.writer(file,delimiter=',')\n",
    "    writer.writerow(headers)\n",
    "    writer.writerow(values)\n",
    "    \n",
    "with open(\"test_file2.csv\",\"w\",newline=\"\") as file:\n",
    "    writer = csv.writer(file,delimiter=',')\n",
    "    writer.writerow(headers)\n",
    "    writer.writerow(values)"
   ]
  },
  {
   "cell_type": "code",
   "execution_count": 35,
   "metadata": {},
   "outputs": [],
   "source": [
    "#Function to read in est names and inspection dates\n",
    "# For eah record calc \"DaysSinceInspection\" - No. days since insp date\n",
    "# Write to new CSV file contains ins dates & days since insp\n",
    "\n",
    "import csv\n",
    "from datetime import date\n",
    "\n",
    "with open('foodhygienedata.csv') as csvfile:\n",
    "    reader = csv.DictReader(csvfile, delimiter=',')\n",
    "    enames = []\n",
    "    idates = []\n",
    "    dsi = []\n",
    "    for row in reader:\n",
    "        enames.append(row[\"establishmentname\"])\n",
    "        idates.append(row[\"inspectiondate\"])\n",
    "        current_idate = row[\"inspectiondate\"]\n",
    "        \n",
    "        if current_idate:\n",
    "            dtcomponents = current_idate.split(\"/\")\n",
    "            dt = date(int(dtcomponents[2]), int(dtcomponents[1]), int(dtcomponents[0]))\n",
    "            dtdifference = date.today() - dt\n",
    "            \n",
    "            dsi.append(dtdifference.days)\n",
    "        else:\n",
    "            dsi.append(\"\")\n",
    "            \n",
    "with open('foodhygienedata.csv',\"w\", newline=\"\") as file:\n",
    "    writer = csv.writer(file,delimiter=',')\n",
    "    headers = [\"establishmentname\",\"inspectiondate\",\"DaysSinceInspection\"]\n",
    "    writer.writerow(headers)\n",
    "    \n",
    "    for ename,idate,numdays in zip(enames,idates,dsi):\n",
    "         writer.writerow([ename,idate,numdays])\n",
    "    \n",
    "\n"
   ]
  },
  {
   "cell_type": "code",
   "execution_count": null,
   "metadata": {},
   "outputs": [],
   "source": []
  }
 ],
 "metadata": {
  "kernelspec": {
   "display_name": "Python 3",
   "language": "python",
   "name": "python3"
  },
  "language_info": {
   "codemirror_mode": {
    "name": "ipython",
    "version": 3
   },
   "file_extension": ".py",
   "mimetype": "text/x-python",
   "name": "python",
   "nbconvert_exporter": "python",
   "pygments_lexer": "ipython3",
   "version": "3.7.1"
  }
 },
 "nbformat": 4,
 "nbformat_minor": 2
}
